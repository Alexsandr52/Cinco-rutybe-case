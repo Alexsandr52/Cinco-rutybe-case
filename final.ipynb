{
  "cells": [
    {
      "cell_type": "markdown",
      "metadata": {
        "id": "kSxzX5t6745C"
      },
      "source": [
        "### Основные импорты, может занять какое-то время\n"
      ]
    },
    {
      "cell_type": "code",
      "execution_count": 7,
      "metadata": {
        "id": "-No4QCXZpTdM"
      },
      "outputs": [],
      "source": [
        "# !pip install nemo_toolkit['all'] pydub transformers"
      ]
    },
    {
      "cell_type": "code",
      "execution_count": 1,
      "metadata": {
        "id": "4K338DGWpaaL"
      },
      "outputs": [],
      "source": [
        "%%capture\n",
        "!pip install nemo_toolkit['all'] pydub transformers\n",
        "\n",
        "from transformers import pipeline\n",
        "from transformers import AutoTokenizer, AutoModelForSeq2SeqLM\n",
        "import nemo.collections.asr as nemo_asr\n",
        "from pydub import AudioSegment\n",
        "from omegaconf import open_dict\n",
        "\n",
        "pipe = pipeline(\"translation\", model=\"facebook/nllb-200-distilled-600M\")\n",
        "tokenizer = AutoTokenizer.from_pretrained(\"facebook/nllb-200-distilled-600M\")\n",
        "model = AutoModelForSeq2SeqLM.from_pretrained(\"facebook/nllb-200-distilled-600M\")\n",
        "\n",
        "asr_model = nemo_asr.models.EncDecHybridRNNTCTCBPEModel.from_pretrained(model_name=\"nvidia/stt_ru_fastconformer_hybrid_large_pc\")\n",
        "\n",
        "decoding_cfg = asr_model.cfg.decoding\n",
        "with open_dict(decoding_cfg):\n",
        "    decoding_cfg.preserve_alignments = True\n",
        "    decoding_cfg.compute_timestamps = True\n",
        "    asr_model.change_decoding_strategy(decoding_cfg)\n",
        "\n"
      ]
    },
    {
      "cell_type": "code",
      "execution_count": 2,
      "metadata": {
        "id": "RUSX5ocDY5bQ"
      },
      "outputs": [],
      "source": [
        "%%capture\n",
        "!pip install TTS[\"all\"]\n",
        "\n",
        "import torch\n",
        "from TTS.api import TTS"
      ]
    },
    {
      "cell_type": "markdown",
      "source": [
        "### Классы для взаимодействия"
      ],
      "metadata": {
        "id": "Ofc0nv5mWW_t"
      }
    },
    {
      "cell_type": "code",
      "execution_count": 4,
      "metadata": {
        "id": "f4sH1jBu-qXc"
      },
      "outputs": [],
      "source": [
        "class stt_model:\n",
        "  def __init__(self, video_path):\n",
        "    self.video_path = video_path\n",
        "    self.audio_path = None\n",
        "    self.word_timestamps = None\n",
        "    self.time_stride = None\n",
        "    self.sentences = None\n",
        "\n",
        "  def get_audio(self):\n",
        "    audio = AudioSegment.from_file(self.video_path)\n",
        "    audio = audio.set_channels(1)\n",
        "    audio = audio.set_frame_rate(16000)\n",
        "    audio_file = audio.export(self.video_path + '.wav', format=\"wav\")\n",
        "\n",
        "    self.audio_path = self.video_path + '.wav'\n",
        "    return self.audio_path\n",
        "\n",
        "  def get_word_timestamps(self):\n",
        "    hypotheses = asr_model.transcribe([self.audio_path], return_hypotheses=True)\n",
        "    if type(hypotheses) == tuple and len(hypotheses) == 2:\n",
        "      hypotheses = hypotheses[0]\n",
        "\n",
        "    timestamp_dict = hypotheses[0].timestep\n",
        "    time_stride = 8 * asr_model.cfg.preprocessor.window_stride\n",
        "    word_timestamps = timestamp_dict['word']\n",
        "\n",
        "    self.word_timestamps = word_timestamps\n",
        "    self.time_stride = time_stride\n",
        "    return word_timestamps\n",
        "\n",
        "  @staticmethod\n",
        "  def translate(source_lan, target_lan, text):\n",
        "    translator = pipeline('translation', model=model, tokenizer=tokenizer, src_lang=source_lan, tgt_lang=target_lan)\n",
        "    output_text = translator(text, max_length=400)\n",
        "    return output_text\n",
        "\n",
        "  def make_sentence(self):\n",
        "    text, sentences = [], []\n",
        "    time_start, is_start, sentence = 0.0, True, \"\"\n",
        "\n",
        "    for stamp in self.word_timestamps:\n",
        "        start = stamp['start_offset'] * self.time_stride\n",
        "        end = stamp['end_offset'] * self.time_stride\n",
        "        word = stamp['char'] if 'char' in stamp else stamp['word']\n",
        "\n",
        "        if(word!=\".\"):\n",
        "          text.append(\" \" + word)\n",
        "          if(is_start):\n",
        "            time_start=start\n",
        "            is_start=False\n",
        "          continue\n",
        "        text.append(word)\n",
        "        sentence = \"\".join(text)\n",
        "        sentences.append([sentence, self.translate(source_lan='rus_Cyrl', target_lan='eng_Latn', text=sentence)[0]['translation_text'], time_start, end, end-time_start])\n",
        "        is_start= True\n",
        "        text.clear()\n",
        "\n",
        "    self.sentences = sentences\n",
        "    return sentences\n",
        ""
      ]
    },
    {
      "cell_type": "code",
      "source": [
        "class tts_model:\n",
        "  def __init__(self, speaker_audio_path):\n",
        "    self.speaker_audio_path = speaker_audio_path\n",
        "    self.device = \"cuda\" if torch.cuda.is_available() else \"cpu\"\n",
        "    self.languages = {'fr': 'fr-fr', 'en': 'en', 'pt': 'pt-br'}\n",
        "    self.tts = TTS(model_name=\"tts_models/multilingual/multi-dataset/your_tts\", progress_bar=False).to(self.device)\n",
        "\n",
        "  def cloning_voice(self, output_file_path,  text, language):\n",
        "    if language in self.languages.keys():\n",
        "      language = self.languages[language]\n",
        "    else:\n",
        "      raise RuntimeError('language is not in ', self.tts.languages)\n",
        "\n",
        "    self.tts.tts_to_file(text, speaker_wav=self.speaker_audio_path, language=language, file_path=output_file_path)\n",
        "    # tts2.voice_conversion_to_file(source_wav=output_file_path, target_wav=self.speaker_audio_path, file_path=output_file_path)\n",
        "    return output_file_path\n"
      ],
      "metadata": {
        "id": "zbqzFz22zFnX"
      },
      "execution_count": 5,
      "outputs": []
    },
    {
      "cell_type": "code",
      "execution_count": 13,
      "metadata": {
        "id": "nJ6BHG9J433v"
      },
      "outputs": [],
      "source": [
        "from pydub import AudioSegment\n",
        "import os\n",
        "import shutil\n",
        "from IPython.display import Audio, display\n",
        "from moviepy.editor import VideoFileClip, AudioFileClip\n",
        "\n",
        "class audiopip:\n",
        "  def __init__(self, speaker_audio_path, original_video_path, clone_dir, sentences):\n",
        "    self.original_audio_path = speaker_audio_path\n",
        "    self.original_video_path = original_video_path\n",
        "    self.clone_dir = clone_dir\n",
        "    self.sentences = sentences\n",
        "    self.inserted_audio = None\n",
        "    self.merged_audio = None\n",
        "    self.result_video_path = 'result_video.mp4'\n",
        "    self.delet_bufer = True\n",
        "\n",
        "  def make_lower_volume(self):\n",
        "    audio = AudioSegment.from_file(self.original_audio_path, format=\"wav\")\n",
        "    points = [[sent[2]*1000, sent[3]*1000] for sent in self.sentences]\n",
        "\n",
        "    for el in points:\n",
        "      start_time, end_time = el\n",
        "      silence_duration = end_time - start_time\n",
        "      silence_part = AudioSegment.silent(duration=silence_duration)\n",
        "\n",
        "      part1 = audio[:start_time]\n",
        "      part2 = audio[start_time:end_time]\n",
        "      part3 = audio[end_time:]\n",
        "      part2_lowered = part2 - 20\n",
        "\n",
        "      audio = part1 + part2_lowered + part3\n",
        "\n",
        "    return audio\n",
        "\n",
        "  def delete_voise_part(self):\n",
        "    audio = AudioSegment.from_file(self.original_audio_path, format=\"wav\")\n",
        "    points = [[sent[2]*1000, sent[3]*1000] for sent in self.sentences]\n",
        "\n",
        "    for el in points:\n",
        "      start_time, end_time = el\n",
        "      silence_duration = end_time - start_time\n",
        "      silence_part = AudioSegment.silent(duration=silence_duration)\n",
        "      audio = audio[:start_time] + silence_part + audio[end_time:]\n",
        "    return audio\n",
        "\n",
        "  # переделать\n",
        "  def insert_audio_at_time(self):\n",
        "    buffer_dir_path = self.clone_dir\n",
        "    track = AudioSegment.silent(duration=0)\n",
        "\n",
        "    audio_files = [f'{f}' for f in os.listdir(buffer_dir_path) if f.endswith(\".wav\")]\n",
        "    start_times = [round(sent[2], 3) * 1000 for sent in self.sentences]\n",
        "\n",
        "    for i, audio_file in enumerate(sorted(audio_files)):\n",
        "\n",
        "\n",
        "      audio = AudioSegment.from_file(f'{buffer_dir_path}/{audio_file}', format=\"wav\")\n",
        "      time_difference = start_times[i] - len(track)\n",
        "\n",
        "      if time_difference > 0:\n",
        "          silence = AudioSegment.silent(duration=time_difference)\n",
        "          track += silence\n",
        "      track += audio\n",
        "\n",
        "    if self.delet_bufer:\n",
        "      shutil.rmtree(buffer_dir_path)\n",
        "\n",
        "    self.inserted_audio = track\n",
        "    return track\n",
        "\n",
        "  def merge(self, clone=None):\n",
        "\n",
        "    if clone == None:\n",
        "      if self.inserted_audio == None: raise 'No trac to insert try to use \"insert_audio_at_time\"'\n",
        "      else: audio2 = self.inserted_audio\n",
        "    else:\n",
        "      audio2 = AudioSegment.from_file(clone, format=\"wav\")\n",
        "\n",
        "    audio1 = AudioSegment.from_file(self.original_audio_path, format=\"wav\")\n",
        "\n",
        "    output = audio1.overlay(audio2)\n",
        "    self.merged_audio = output\n",
        "\n",
        "    return output\n",
        "\n",
        "  def make_result_video(self):\n",
        "    video = VideoFileClip(self.original_video_path)\n",
        "    if self.merged_audio == None:\n",
        "      raise 'No trac to insert try to use \"insert_audio_at_time\"'\n",
        "\n",
        "    self.merged_audio.export(\"buffer.wav\", format=\"wav\")\n",
        "    audio = AudioFileClip(\"buffer.wav\")\n",
        "\n",
        "    video = video.set_audio(audio)\n",
        "\n",
        "    video.write_videofile(self.result_video_path, codec=\"libx264\", audio_codec=\"aac\")\n",
        "    os.remove(\"buffer.wav\")\n",
        "    os.remove(self.original_audio_path)\n",
        "\n",
        "    return self.result_video_path"
      ]
    },
    {
      "cell_type": "markdown",
      "source": [
        "### Работа с библиотеками"
      ],
      "metadata": {
        "id": "bDMSI6sUX9VY"
      }
    },
    {
      "cell_type": "code",
      "source": [
        "video_path = '0.mp4'\n",
        "buffer_dir = 'buffer'"
      ],
      "metadata": {
        "id": "WRYPklNl8BYu"
      },
      "execution_count": 18,
      "outputs": []
    },
    {
      "cell_type": "code",
      "execution_count": 19,
      "metadata": {
        "id": "y7Lfb9qirGm8"
      },
      "outputs": [],
      "source": [
        "%%capture\n",
        "stt_preprocessor = stt_model(video_path)\n",
        "stt_preprocessor.get_audio()\n",
        "stt_preprocessor.get_word_timestamps()\n",
        "stt_preprocessor.make_sentence()\n"
      ]
    },
    {
      "cell_type": "code",
      "source": [
        "speaker_audio_path = stt_preprocessor.audio_path\n",
        "sentences = stt_preprocessor.sentences\n"
      ],
      "metadata": {
        "id": "Fpk8Uha06QUD"
      },
      "execution_count": 26,
      "outputs": []
    },
    {
      "cell_type": "code",
      "source": [
        "%%capture\n",
        "tts_preprocessor = tts_model(speaker_audio_path)\n",
        "\n",
        "# !mkdir buffer\n",
        "os.mkdir(buffer_dir)\n",
        "\n",
        "\n",
        "for i, sentenc in enumerate(sentences):\n",
        "  output_file_path = f'{buffer_dir}/buffer_audio_file_{i}.wav'\n",
        "  tts_preprocessor.cloning_voice(output_file_path, sentenc[1], 'en')"
      ],
      "metadata": {
        "id": "BC3BLevm7Ncy"
      },
      "execution_count": 23,
      "outputs": []
    },
    {
      "cell_type": "code",
      "execution_count": 24,
      "metadata": {
        "id": "R09VlfCKCAbk",
        "colab": {
          "base_uri": "https://localhost:8080/"
        },
        "outputId": "29256451-73ce-44cd-d1d8-99e2162a0bb2"
      },
      "outputs": [
        {
          "output_type": "stream",
          "name": "stdout",
          "text": [
            "Moviepy - Building video result_video.mp4.\n",
            "MoviePy - Writing audio in result_videoTEMP_MPY_wvf_snd.mp4\n"
          ]
        },
        {
          "output_type": "stream",
          "name": "stderr",
          "text": []
        },
        {
          "output_type": "stream",
          "name": "stdout",
          "text": [
            "MoviePy - Done.\n",
            "Moviepy - Writing video result_video.mp4\n",
            "\n"
          ]
        },
        {
          "output_type": "stream",
          "name": "stderr",
          "text": [
            "t: 100%|█████████▉| 1558/1560 [01:12<00:00, 60.99it/s, now=None]WARNING:py.warnings:/usr/local/lib/python3.10/dist-packages/moviepy/video/io/ffmpeg_reader.py:123: UserWarning: Warning: in file 0.mp4, 1232640 bytes wanted but 0 bytes read,at frame 1559/1560, at time 62.36/62.38 sec. Using the last valid frame instead.\n",
            "  warnings.warn(\"Warning: in file %s, \"%(self.filename)+\n",
            "\n"
          ]
        },
        {
          "output_type": "stream",
          "name": "stdout",
          "text": [
            "Moviepy - Done !\n",
            "Moviepy - video ready result_video.mp4\n"
          ]
        }
      ],
      "source": [
        "\n",
        "audio_preprocessor = audiopip(speaker_audio_path, video_path, buffer_dir, sentences)\n",
        "\n",
        "audio_preprocessor.make_lower_volume()\n",
        "audio_preprocessor.insert_audio_at_time()\n",
        "audio_preprocessor.merge()\n",
        "res_video_path = audio_preprocessor.make_result_video()\n",
        "\n"
      ]
    }
  ],
  "metadata": {
    "colab": {
      "provenance": []
    },
    "kernelspec": {
      "display_name": "Python 3",
      "name": "python3"
    },
    "language_info": {
      "name": "python"
    }
  },
  "nbformat": 4,
  "nbformat_minor": 0
}