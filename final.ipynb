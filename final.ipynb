{
  "cells": [
    {
      "cell_type": "markdown",
      "metadata": {
        "id": "kSxzX5t6745C"
      },
      "source": [
        "### Основные импорты, может занять какое-то время\n"
      ]
    },
    {
      "cell_type": "code",
      "execution_count": null,
      "metadata": {
        "id": "4K338DGWpaaL"
      },
      "outputs": [],
      "source": [
        "%%capture\n",
        "!pip install nemo_toolkit['all'] pydub transformers\n",
        "\n",
        "from transformers import pipeline\n",
        "from transformers import AutoTokenizer, AutoModelForSeq2SeqLM\n",
        "import nemo.collections.asr as nemo_asr\n",
        "from pydub import AudioSegment\n",
        "from omegaconf import open_dict\n",
        "\n",
        "pipe = pipeline(\"translation\", model=\"facebook/nllb-200-distilled-600M\")\n",
        "tokenizer = AutoTokenizer.from_pretrained(\"facebook/nllb-200-distilled-600M\")\n",
        "model = AutoModelForSeq2SeqLM.from_pretrained(\"facebook/nllb-200-distilled-600M\")\n",
        "\n",
        "asr_model = nemo_asr.models.EncDecHybridRNNTCTCBPEModel.from_pretrained(model_name=\"nvidia/stt_ru_fastconformer_hybrid_large_pc\")\n",
        "\n",
        "decoding_cfg = asr_model.cfg.decoding\n",
        "with open_dict(decoding_cfg):\n",
        "    decoding_cfg.preserve_alignments = True\n",
        "    decoding_cfg.compute_timestamps = True\n",
        "    asr_model.change_decoding_strategy(decoding_cfg)\n",
        "\n"
      ]
    },
    {
      "cell_type": "code",
      "execution_count": null,
      "metadata": {
        "id": "RUSX5ocDY5bQ"
      },
      "outputs": [],
      "source": [
        "%%capture\n",
        "!pip install TTS[\"all\"]\n",
        "\n",
        "import torch\n",
        "from TTS.api import TTS"
      ]
    },
    {
      "cell_type": "markdown",
      "metadata": {
        "id": "Ofc0nv5mWW_t"
      },
      "source": [
        "### Классы для взаимодействия"
      ]
    },
    {
      "cell_type": "code",
      "execution_count": null,
      "metadata": {
        "id": "f4sH1jBu-qXc"
      },
      "outputs": [],
      "source": [
        "class stt_model:\n",
        "  def __init__(self, video_path):\n",
        "    self.video_path = video_path\n",
        "    self.audio_path = None\n",
        "    self.word_timestamps = None\n",
        "    self.time_stride = None\n",
        "    self.sentences = None\n",
        "\n",
        "  def get_audio(self):\n",
        "    audio = AudioSegment.from_file(self.video_path)\n",
        "    audio = audio.set_channels(1)\n",
        "    audio = audio.set_frame_rate(16000)\n",
        "    audio_file = audio.export(self.video_path + '.wav', format=\"wav\")\n",
        "\n",
        "    self.audio_path = self.video_path + '.wav'\n",
        "    return self.audio_path\n",
        "\n",
        "  def get_word_timestamps(self):\n",
        "    hypotheses = asr_model.transcribe([self.audio_path], return_hypotheses=True)\n",
        "    if type(hypotheses) == tuple and len(hypotheses) == 2:\n",
        "      hypotheses = hypotheses[0]\n",
        "\n",
        "    timestamp_dict = hypotheses[0].timestep\n",
        "    time_stride = 8 * asr_model.cfg.preprocessor.window_stride\n",
        "    word_timestamps = timestamp_dict['word']\n",
        "\n",
        "    self.word_timestamps = word_timestamps\n",
        "    self.time_stride = time_stride\n",
        "    return word_timestamps\n",
        "\n",
        "  @staticmethod\n",
        "  def translate(source_lan, target_lan, text):\n",
        "    translator = pipeline('translation', model=model, tokenizer=tokenizer, src_lang=source_lan, tgt_lang=target_lan)\n",
        "    output_text = translator(text, max_length=400)\n",
        "    return output_text\n",
        "\n",
        "  def make_sentence(self):\n",
        "    text, sentences = [], []\n",
        "    time_start, is_start, sentence = 0.0, True, \"\"\n",
        "\n",
        "    for stamp in self.word_timestamps:\n",
        "        start = stamp['start_offset'] * self.time_stride\n",
        "        end = stamp['end_offset'] * self.time_stride\n",
        "        word = stamp['char'] if 'char' in stamp else stamp['word']\n",
        "\n",
        "        if(word!=\".\"):\n",
        "          text.append(\" \" + word)\n",
        "          if(is_start):\n",
        "            time_start=start\n",
        "            is_start=False\n",
        "          continue\n",
        "        text.append(word)\n",
        "        sentence = \"\".join(text)\n",
        "        sentences.append([sentence, self.translate(source_lan='rus_Cyrl', target_lan='eng_Latn', text=sentence)[0]['translation_text'], time_start, end, end-time_start])\n",
        "        is_start= True\n",
        "        text.clear()\n",
        "\n",
        "    with open('russia_text.txt', 'w') as file:\n",
        "      for sent in sentences:\n",
        "        file.write(sent[0])\n",
        "\n",
        "    with open('foreign_text.txt', 'w') as file:\n",
        "      for sent in sentences:\n",
        "        file.write(sent[1])\n",
        "    self.sentences = sentences\n",
        "    return sentences\n"
      ]
    },
    {
      "cell_type": "code",
      "execution_count": null,
      "metadata": {
        "id": "zbqzFz22zFnX"
      },
      "outputs": [],
      "source": [
        "class tts_model:\n",
        "  def __init__(self, speaker_audio_path):\n",
        "    self.speaker_audio_path = speaker_audio_path\n",
        "    self.device = \"cuda\" if torch.cuda.is_available() else \"cpu\"\n",
        "    self.languages = {'fr': 'fr-fr', 'en': 'en', 'pt': 'pt-br'}\n",
        "    self.tts = TTS(model_name=\"tts_models/multilingual/multi-dataset/your_tts\", progress_bar=False).to(self.device)\n",
        "\n",
        "  def cloning_voice(self, output_file_path,  text, language):\n",
        "    if language in self.languages.keys():\n",
        "      language = self.languages[language]\n",
        "    else:\n",
        "      raise RuntimeError('language is not in ', self.tts.languages)\n",
        "\n",
        "    self.tts.tts_to_file(text, speaker_wav=self.speaker_audio_path, language=language, file_path=output_file_path)\n",
        "    # tts2.voice_conversion_to_file(source_wav=output_file_path, target_wav=self.speaker_audio_path, file_path=output_file_path)\n",
        "    return output_file_path\n"
      ]
    },
    {
      "cell_type": "code",
      "execution_count": null,
      "metadata": {
        "id": "nJ6BHG9J433v"
      },
      "outputs": [],
      "source": [
        "from pydub import AudioSegment\n",
        "import os\n",
        "import shutil\n",
        "from IPython.display import Audio, display\n",
        "from moviepy.editor import VideoFileClip, AudioFileClip\n",
        "\n",
        "class audiopip:\n",
        "  def __init__(self, speaker_audio_path, original_video_path, clone_dir, sentences):\n",
        "    self.original_audio_path = speaker_audio_path\n",
        "    self.original_video_path = original_video_path\n",
        "    self.clone_dir = clone_dir\n",
        "    self.sentences = sentences\n",
        "    self.inserted_audio = None\n",
        "    self.merged_audio = None\n",
        "    self.result_video_path = 'result_video.mp4'\n",
        "    self.delet_bufer = True\n",
        "\n",
        "  def make_lower_volume(self):\n",
        "    audio = AudioSegment.from_file(self.original_audio_path, format=\"wav\")\n",
        "    points = [[sent[2]*1000, sent[3]*1000] for sent in self.sentences]\n",
        "\n",
        "    for el in points:\n",
        "      start_time, end_time = el\n",
        "      silence_duration = end_time - start_time\n",
        "      silence_part = AudioSegment.silent(duration=silence_duration)\n",
        "\n",
        "      part1 = audio[:start_time]\n",
        "      part2 = audio[start_time:end_time]\n",
        "      part3 = audio[end_time:]\n",
        "      part2_lowered = part2 - 23\n",
        "\n",
        "      audio = part1 + part2_lowered + part3\n",
        "\n",
        "    return audio\n",
        "\n",
        "  def delete_voise_part(self):\n",
        "    audio = AudioSegment.from_file(self.original_audio_path, format=\"wav\")\n",
        "    points = [[sent[2]*1000, sent[3]*1000] for sent in self.sentences]\n",
        "\n",
        "    for el in points:\n",
        "      start_time, end_time = el\n",
        "      silence_duration = end_time - start_time\n",
        "      silence_part = AudioSegment.silent(duration=silence_duration)\n",
        "      audio = audio[:start_time] + silence_part + audio[end_time:]\n",
        "    return audio\n",
        "\n",
        "  # переделать\n",
        "  def insert_audio_at_time(self):\n",
        "    buffer_dir_path = self.clone_dir\n",
        "    track = AudioSegment.silent(duration=0)\n",
        "\n",
        "    audio_files = [f'{f}' for f in os.listdir(buffer_dir_path) if f.endswith(\".wav\")]\n",
        "    start_times = [round(sent[2], 3) * 1000 for sent in self.sentences]\n",
        "\n",
        "    for i, audio_file in enumerate(sorted(audio_files)):\n",
        "\n",
        "\n",
        "      audio = AudioSegment.from_file(f'{buffer_dir_path}/{audio_file}', format=\"wav\")\n",
        "      time_difference = start_times[i] - len(track)\n",
        "\n",
        "      if time_difference > 0:\n",
        "          silence = AudioSegment.silent(duration=time_difference)\n",
        "          track += silence\n",
        "      track += audio\n",
        "\n",
        "    if self.delet_bufer:\n",
        "      shutil.rmtree(buffer_dir_path)\n",
        "\n",
        "    self.inserted_audio = track\n",
        "    return track\n",
        "\n",
        "  def merge(self, clone=None):\n",
        "\n",
        "    if clone == None:\n",
        "      if self.inserted_audio == None: raise 'No trac to insert try to use \"insert_audio_at_time\"'\n",
        "      else: audio2 = self.inserted_audio\n",
        "    else:\n",
        "      audio2 = AudioSegment.from_file(clone, format=\"wav\")\n",
        "\n",
        "    audio1 = AudioSegment.from_file(self.original_audio_path, format=\"wav\")\n",
        "\n",
        "    output = audio1.overlay(audio2)\n",
        "    self.merged_audio = output\n",
        "\n",
        "    return output\n",
        "\n",
        "  def make_result_video(self):\n",
        "    video = VideoFileClip(self.original_video_path)\n",
        "    if self.merged_audio == None:\n",
        "      raise 'No trac to insert try to use \"insert_audio_at_time\"'\n",
        "\n",
        "    self.merged_audio.export(\"buffer.wav\", format=\"wav\")\n",
        "    audio = AudioFileClip(\"buffer.wav\")\n",
        "\n",
        "    video = video.set_audio(audio)\n",
        "\n",
        "    video.write_videofile(self.result_video_path, codec=\"libx264\", audio_codec=\"aac\")\n",
        "    os.remove(\"buffer.wav\")\n",
        "    os.remove(self.original_audio_path)\n",
        "\n",
        "    return self.result_video_path"
      ]
    },
    {
      "cell_type": "markdown",
      "metadata": {
        "id": "bDMSI6sUX9VY"
      },
      "source": [
        "### Работа с библиотеками"
      ]
    },
    {
      "cell_type": "code",
      "source": [
        "from google.colab import files\n",
        "lang = input('Введите язык на который нужно превести')\n",
        "uploaded = files.upload()\n",
        "video_path = list(uploaded.keys())[0]\n",
        "buffer_dir = 'buffer'"
      ],
      "metadata": {
        "colab": {
          "base_uri": "https://localhost:8080/",
          "height": 403
        },
        "id": "2xfW0cidWwhz",
        "outputId": "6eafb84c-72f2-407a-b740-919d548c5934"
      },
      "execution_count": 3,
      "outputs": [
        {
          "output_type": "display_data",
          "data": {
            "text/plain": [
              "<IPython.core.display.HTML object>"
            ],
            "text/html": [
              "\n",
              "     <input type=\"file\" id=\"files-d1ba78bc-008b-4fbc-b069-47eceb204ff7\" name=\"files[]\" multiple disabled\n",
              "        style=\"border:none\" />\n",
              "     <output id=\"result-d1ba78bc-008b-4fbc-b069-47eceb204ff7\">\n",
              "      Upload widget is only available when the cell has been executed in the\n",
              "      current browser session. Please rerun this cell to enable.\n",
              "      </output>\n",
              "      <script>// Copyright 2017 Google LLC\n",
              "//\n",
              "// Licensed under the Apache License, Version 2.0 (the \"License\");\n",
              "// you may not use this file except in compliance with the License.\n",
              "// You may obtain a copy of the License at\n",
              "//\n",
              "//      http://www.apache.org/licenses/LICENSE-2.0\n",
              "//\n",
              "// Unless required by applicable law or agreed to in writing, software\n",
              "// distributed under the License is distributed on an \"AS IS\" BASIS,\n",
              "// WITHOUT WARRANTIES OR CONDITIONS OF ANY KIND, either express or implied.\n",
              "// See the License for the specific language governing permissions and\n",
              "// limitations under the License.\n",
              "\n",
              "/**\n",
              " * @fileoverview Helpers for google.colab Python module.\n",
              " */\n",
              "(function(scope) {\n",
              "function span(text, styleAttributes = {}) {\n",
              "  const element = document.createElement('span');\n",
              "  element.textContent = text;\n",
              "  for (const key of Object.keys(styleAttributes)) {\n",
              "    element.style[key] = styleAttributes[key];\n",
              "  }\n",
              "  return element;\n",
              "}\n",
              "\n",
              "// Max number of bytes which will be uploaded at a time.\n",
              "const MAX_PAYLOAD_SIZE = 100 * 1024;\n",
              "\n",
              "function _uploadFiles(inputId, outputId) {\n",
              "  const steps = uploadFilesStep(inputId, outputId);\n",
              "  const outputElement = document.getElementById(outputId);\n",
              "  // Cache steps on the outputElement to make it available for the next call\n",
              "  // to uploadFilesContinue from Python.\n",
              "  outputElement.steps = steps;\n",
              "\n",
              "  return _uploadFilesContinue(outputId);\n",
              "}\n",
              "\n",
              "// This is roughly an async generator (not supported in the browser yet),\n",
              "// where there are multiple asynchronous steps and the Python side is going\n",
              "// to poll for completion of each step.\n",
              "// This uses a Promise to block the python side on completion of each step,\n",
              "// then passes the result of the previous step as the input to the next step.\n",
              "function _uploadFilesContinue(outputId) {\n",
              "  const outputElement = document.getElementById(outputId);\n",
              "  const steps = outputElement.steps;\n",
              "\n",
              "  const next = steps.next(outputElement.lastPromiseValue);\n",
              "  return Promise.resolve(next.value.promise).then((value) => {\n",
              "    // Cache the last promise value to make it available to the next\n",
              "    // step of the generator.\n",
              "    outputElement.lastPromiseValue = value;\n",
              "    return next.value.response;\n",
              "  });\n",
              "}\n",
              "\n",
              "/**\n",
              " * Generator function which is called between each async step of the upload\n",
              " * process.\n",
              " * @param {string} inputId Element ID of the input file picker element.\n",
              " * @param {string} outputId Element ID of the output display.\n",
              " * @return {!Iterable<!Object>} Iterable of next steps.\n",
              " */\n",
              "function* uploadFilesStep(inputId, outputId) {\n",
              "  const inputElement = document.getElementById(inputId);\n",
              "  inputElement.disabled = false;\n",
              "\n",
              "  const outputElement = document.getElementById(outputId);\n",
              "  outputElement.innerHTML = '';\n",
              "\n",
              "  const pickedPromise = new Promise((resolve) => {\n",
              "    inputElement.addEventListener('change', (e) => {\n",
              "      resolve(e.target.files);\n",
              "    });\n",
              "  });\n",
              "\n",
              "  const cancel = document.createElement('button');\n",
              "  inputElement.parentElement.appendChild(cancel);\n",
              "  cancel.textContent = 'Cancel upload';\n",
              "  const cancelPromise = new Promise((resolve) => {\n",
              "    cancel.onclick = () => {\n",
              "      resolve(null);\n",
              "    };\n",
              "  });\n",
              "\n",
              "  // Wait for the user to pick the files.\n",
              "  const files = yield {\n",
              "    promise: Promise.race([pickedPromise, cancelPromise]),\n",
              "    response: {\n",
              "      action: 'starting',\n",
              "    }\n",
              "  };\n",
              "\n",
              "  cancel.remove();\n",
              "\n",
              "  // Disable the input element since further picks are not allowed.\n",
              "  inputElement.disabled = true;\n",
              "\n",
              "  if (!files) {\n",
              "    return {\n",
              "      response: {\n",
              "        action: 'complete',\n",
              "      }\n",
              "    };\n",
              "  }\n",
              "\n",
              "  for (const file of files) {\n",
              "    const li = document.createElement('li');\n",
              "    li.append(span(file.name, {fontWeight: 'bold'}));\n",
              "    li.append(span(\n",
              "        `(${file.type || 'n/a'}) - ${file.size} bytes, ` +\n",
              "        `last modified: ${\n",
              "            file.lastModifiedDate ? file.lastModifiedDate.toLocaleDateString() :\n",
              "                                    'n/a'} - `));\n",
              "    const percent = span('0% done');\n",
              "    li.appendChild(percent);\n",
              "\n",
              "    outputElement.appendChild(li);\n",
              "\n",
              "    const fileDataPromise = new Promise((resolve) => {\n",
              "      const reader = new FileReader();\n",
              "      reader.onload = (e) => {\n",
              "        resolve(e.target.result);\n",
              "      };\n",
              "      reader.readAsArrayBuffer(file);\n",
              "    });\n",
              "    // Wait for the data to be ready.\n",
              "    let fileData = yield {\n",
              "      promise: fileDataPromise,\n",
              "      response: {\n",
              "        action: 'continue',\n",
              "      }\n",
              "    };\n",
              "\n",
              "    // Use a chunked sending to avoid message size limits. See b/62115660.\n",
              "    let position = 0;\n",
              "    do {\n",
              "      const length = Math.min(fileData.byteLength - position, MAX_PAYLOAD_SIZE);\n",
              "      const chunk = new Uint8Array(fileData, position, length);\n",
              "      position += length;\n",
              "\n",
              "      const base64 = btoa(String.fromCharCode.apply(null, chunk));\n",
              "      yield {\n",
              "        response: {\n",
              "          action: 'append',\n",
              "          file: file.name,\n",
              "          data: base64,\n",
              "        },\n",
              "      };\n",
              "\n",
              "      let percentDone = fileData.byteLength === 0 ?\n",
              "          100 :\n",
              "          Math.round((position / fileData.byteLength) * 100);\n",
              "      percent.textContent = `${percentDone}% done`;\n",
              "\n",
              "    } while (position < fileData.byteLength);\n",
              "  }\n",
              "\n",
              "  // All done.\n",
              "  yield {\n",
              "    response: {\n",
              "      action: 'complete',\n",
              "    }\n",
              "  };\n",
              "}\n",
              "\n",
              "scope.google = scope.google || {};\n",
              "scope.google.colab = scope.google.colab || {};\n",
              "scope.google.colab._files = {\n",
              "  _uploadFiles,\n",
              "  _uploadFilesContinue,\n",
              "};\n",
              "})(self);\n",
              "</script> "
            ]
          },
          "metadata": {}
        },
        {
          "output_type": "error",
          "ename": "KeyboardInterrupt",
          "evalue": "ignored",
          "traceback": [
            "\u001b[0;31m---------------------------------------------------------------------------\u001b[0m",
            "\u001b[0;31mKeyboardInterrupt\u001b[0m                         Traceback (most recent call last)",
            "\u001b[0;32m<ipython-input-3-dd2914e30afa>\u001b[0m in \u001b[0;36m<cell line: 2>\u001b[0;34m()\u001b[0m\n\u001b[1;32m      1\u001b[0m \u001b[0;32mfrom\u001b[0m \u001b[0mgoogle\u001b[0m\u001b[0;34m.\u001b[0m\u001b[0mcolab\u001b[0m \u001b[0;32mimport\u001b[0m \u001b[0mfiles\u001b[0m\u001b[0;34m\u001b[0m\u001b[0;34m\u001b[0m\u001b[0m\n\u001b[0;32m----> 2\u001b[0;31m \u001b[0muploaded\u001b[0m \u001b[0;34m=\u001b[0m \u001b[0mfiles\u001b[0m\u001b[0;34m.\u001b[0m\u001b[0mupload\u001b[0m\u001b[0;34m(\u001b[0m\u001b[0;34m)\u001b[0m\u001b[0;34m\u001b[0m\u001b[0;34m\u001b[0m\u001b[0m\n\u001b[0m\u001b[1;32m      3\u001b[0m \u001b[0mvideo_path\u001b[0m \u001b[0;34m=\u001b[0m \u001b[0mlist\u001b[0m\u001b[0;34m(\u001b[0m\u001b[0muploaded\u001b[0m\u001b[0;34m.\u001b[0m\u001b[0mkeys\u001b[0m\u001b[0;34m(\u001b[0m\u001b[0;34m)\u001b[0m\u001b[0;34m)\u001b[0m\u001b[0;34m[\u001b[0m\u001b[0;36m0\u001b[0m\u001b[0;34m]\u001b[0m\u001b[0;34m\u001b[0m\u001b[0;34m\u001b[0m\u001b[0m\n\u001b[1;32m      4\u001b[0m \u001b[0mbuffer_dir\u001b[0m \u001b[0;34m=\u001b[0m \u001b[0;34m'buffer'\u001b[0m\u001b[0;34m\u001b[0m\u001b[0;34m\u001b[0m\u001b[0m\n",
            "\u001b[0;32m/usr/local/lib/python3.10/dist-packages/google/colab/files.py\u001b[0m in \u001b[0;36mupload\u001b[0;34m()\u001b[0m\n\u001b[1;32m     67\u001b[0m   \"\"\"\n\u001b[1;32m     68\u001b[0m \u001b[0;34m\u001b[0m\u001b[0m\n\u001b[0;32m---> 69\u001b[0;31m   \u001b[0muploaded_files\u001b[0m \u001b[0;34m=\u001b[0m \u001b[0m_upload_files\u001b[0m\u001b[0;34m(\u001b[0m\u001b[0mmultiple\u001b[0m\u001b[0;34m=\u001b[0m\u001b[0;32mTrue\u001b[0m\u001b[0;34m)\u001b[0m\u001b[0;34m\u001b[0m\u001b[0;34m\u001b[0m\u001b[0m\n\u001b[0m\u001b[1;32m     70\u001b[0m   \u001b[0;31m# Mapping from original filename to filename as saved locally.\u001b[0m\u001b[0;34m\u001b[0m\u001b[0;34m\u001b[0m\u001b[0m\n\u001b[1;32m     71\u001b[0m   \u001b[0mlocal_filenames\u001b[0m \u001b[0;34m=\u001b[0m \u001b[0mdict\u001b[0m\u001b[0;34m(\u001b[0m\u001b[0;34m)\u001b[0m\u001b[0;34m\u001b[0m\u001b[0;34m\u001b[0m\u001b[0m\n",
            "\u001b[0;32m/usr/local/lib/python3.10/dist-packages/google/colab/files.py\u001b[0m in \u001b[0;36m_upload_files\u001b[0;34m(multiple)\u001b[0m\n\u001b[1;32m    154\u001b[0m \u001b[0;34m\u001b[0m\u001b[0m\n\u001b[1;32m    155\u001b[0m   \u001b[0;31m# First result is always an indication that the file picker has completed.\u001b[0m\u001b[0;34m\u001b[0m\u001b[0;34m\u001b[0m\u001b[0m\n\u001b[0;32m--> 156\u001b[0;31m   result = _output.eval_js(\n\u001b[0m\u001b[1;32m    157\u001b[0m       'google.colab._files._uploadFiles(\"{input_id}\", \"{output_id}\")'.format(\n\u001b[1;32m    158\u001b[0m           \u001b[0minput_id\u001b[0m\u001b[0;34m=\u001b[0m\u001b[0minput_id\u001b[0m\u001b[0;34m,\u001b[0m \u001b[0moutput_id\u001b[0m\u001b[0;34m=\u001b[0m\u001b[0moutput_id\u001b[0m\u001b[0;34m\u001b[0m\u001b[0;34m\u001b[0m\u001b[0m\n",
            "\u001b[0;32m/usr/local/lib/python3.10/dist-packages/google/colab/output/_js.py\u001b[0m in \u001b[0;36meval_js\u001b[0;34m(script, ignore_result, timeout_sec)\u001b[0m\n\u001b[1;32m     38\u001b[0m   \u001b[0;32mif\u001b[0m \u001b[0mignore_result\u001b[0m\u001b[0;34m:\u001b[0m\u001b[0;34m\u001b[0m\u001b[0;34m\u001b[0m\u001b[0m\n\u001b[1;32m     39\u001b[0m     \u001b[0;32mreturn\u001b[0m\u001b[0;34m\u001b[0m\u001b[0;34m\u001b[0m\u001b[0m\n\u001b[0;32m---> 40\u001b[0;31m   \u001b[0;32mreturn\u001b[0m \u001b[0m_message\u001b[0m\u001b[0;34m.\u001b[0m\u001b[0mread_reply_from_input\u001b[0m\u001b[0;34m(\u001b[0m\u001b[0mrequest_id\u001b[0m\u001b[0;34m,\u001b[0m \u001b[0mtimeout_sec\u001b[0m\u001b[0;34m)\u001b[0m\u001b[0;34m\u001b[0m\u001b[0;34m\u001b[0m\u001b[0m\n\u001b[0m\u001b[1;32m     41\u001b[0m \u001b[0;34m\u001b[0m\u001b[0m\n\u001b[1;32m     42\u001b[0m \u001b[0;34m\u001b[0m\u001b[0m\n",
            "\u001b[0;32m/usr/local/lib/python3.10/dist-packages/google/colab/_message.py\u001b[0m in \u001b[0;36mread_reply_from_input\u001b[0;34m(message_id, timeout_sec)\u001b[0m\n\u001b[1;32m     94\u001b[0m     \u001b[0mreply\u001b[0m \u001b[0;34m=\u001b[0m \u001b[0m_read_next_input_message\u001b[0m\u001b[0;34m(\u001b[0m\u001b[0;34m)\u001b[0m\u001b[0;34m\u001b[0m\u001b[0;34m\u001b[0m\u001b[0m\n\u001b[1;32m     95\u001b[0m     \u001b[0;32mif\u001b[0m \u001b[0mreply\u001b[0m \u001b[0;34m==\u001b[0m \u001b[0m_NOT_READY\u001b[0m \u001b[0;32mor\u001b[0m \u001b[0;32mnot\u001b[0m \u001b[0misinstance\u001b[0m\u001b[0;34m(\u001b[0m\u001b[0mreply\u001b[0m\u001b[0;34m,\u001b[0m \u001b[0mdict\u001b[0m\u001b[0;34m)\u001b[0m\u001b[0;34m:\u001b[0m\u001b[0;34m\u001b[0m\u001b[0;34m\u001b[0m\u001b[0m\n\u001b[0;32m---> 96\u001b[0;31m       \u001b[0mtime\u001b[0m\u001b[0;34m.\u001b[0m\u001b[0msleep\u001b[0m\u001b[0;34m(\u001b[0m\u001b[0;36m0.025\u001b[0m\u001b[0;34m)\u001b[0m\u001b[0;34m\u001b[0m\u001b[0;34m\u001b[0m\u001b[0m\n\u001b[0m\u001b[1;32m     97\u001b[0m       \u001b[0;32mcontinue\u001b[0m\u001b[0;34m\u001b[0m\u001b[0;34m\u001b[0m\u001b[0m\n\u001b[1;32m     98\u001b[0m     if (\n",
            "\u001b[0;31mKeyboardInterrupt\u001b[0m: "
          ]
        }
      ]
    },
    {
      "cell_type": "code",
      "execution_count": null,
      "metadata": {
        "id": "y7Lfb9qirGm8"
      },
      "outputs": [],
      "source": [
        "%%capture\n",
        "stt_preprocessor = stt_model(video_path)\n",
        "stt_preprocessor.get_audio()\n",
        "stt_preprocessor.get_word_timestamps()\n",
        "stt_preprocessor.make_sentence()\n"
      ]
    },
    {
      "cell_type": "code",
      "execution_count": null,
      "metadata": {
        "id": "Fpk8Uha06QUD"
      },
      "outputs": [],
      "source": [
        "speaker_audio_path = stt_preprocessor.audio_path\n",
        "sentences = stt_preprocessor.sentences\n"
      ]
    },
    {
      "cell_type": "code",
      "execution_count": null,
      "metadata": {
        "id": "BC3BLevm7Ncy"
      },
      "outputs": [],
      "source": [
        "%%capture\n",
        "tts_preprocessor = tts_model(speaker_audio_path)\n",
        "\n",
        "# !mkdir buffer\n",
        "os.mkdir(buffer_dir)\n",
        "\n",
        "\n",
        "for i, sentenc in enumerate(sentences):\n",
        "  output_file_path = f'{buffer_dir}/buffer_audio_file_{i}.wav'\n",
        "  tts_preprocessor.cloning_voice(output_file_path, sentenc[1], lang)"
      ]
    },
    {
      "cell_type": "code",
      "execution_count": null,
      "metadata": {
        "colab": {
          "background_save": true
        },
        "id": "R09VlfCKCAbk",
        "outputId": "dc275b2b-01d9-4244-a83b-71a7e9819b89"
      },
      "outputs": [
        {
          "name": "stdout",
          "output_type": "stream",
          "text": [
            "Moviepy - Building video result_video.mp4.\n",
            "MoviePy - Writing audio in result_videoTEMP_MPY_wvf_snd.mp4\n"
          ]
        },
        {
          "name": "stderr",
          "output_type": "stream",
          "text": [
            ""
          ]
        },
        {
          "name": "stdout",
          "output_type": "stream",
          "text": [
            "MoviePy - Done.\n",
            "Moviepy - Writing video result_video.mp4\n",
            "\n"
          ]
        },
        {
          "name": "stderr",
          "output_type": "stream",
          "text": [
            ""
          ]
        },
        {
          "name": "stdout",
          "output_type": "stream",
          "text": [
            "Moviepy - Done !\n",
            "Moviepy - video ready result_video.mp4\n"
          ]
        }
      ],
      "source": [
        "\n",
        "audio_preprocessor = audiopip(speaker_audio_path, video_path, buffer_dir, sentences)\n",
        "\n",
        "audio_preprocessor.make_lower_volume()\n",
        "audio_preprocessor.insert_audio_at_time()\n",
        "audio_preprocessor.merge()\n",
        "res_video_path = audio_preprocessor.make_result_video()\n",
        "\n"
      ]
    }
  ],
  "metadata": {
    "colab": {
      "provenance": [],
      "collapsed_sections": [
        "kSxzX5t6745C",
        "Ofc0nv5mWW_t"
      ]
    },
    "kernelspec": {
      "display_name": "Python 3",
      "name": "python3"
    },
    "language_info": {
      "name": "python"
    }
  },
  "nbformat": 4,
  "nbformat_minor": 0
}